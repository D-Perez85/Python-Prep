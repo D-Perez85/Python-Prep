{
 "cells": [
  {
   "attachments": {},
   "cell_type": "markdown",
   "metadata": {},
   "source": [
    "## Flujos de Control"
   ]
  },
  {
   "attachments": {},
   "cell_type": "markdown",
   "metadata": {},
   "source": [
    "1) Crear una variable que contenga un elemento del conjunto de números enteros y luego imprimir por pantalla si es mayor o menor a cero"
   ]
  },
  {
   "cell_type": "code",
   "execution_count": 1,
   "metadata": {},
   "outputs": [
    {
     "name": "stdout",
     "output_type": "stream",
     "text": [
      "El nro es mayor que cero\n"
     ]
    }
   ],
   "source": [
    "a = 2\n",
    "if a <0: \n",
    "    print(\"El nro es menor que cero\")\n",
    "elif a > 0:\n",
    "     print(\"El nro es mayor que cero\")\n",
    "else:\n",
    "     print(\"El nro es cero\")"
   ]
  },
  {
   "attachments": {},
   "cell_type": "markdown",
   "metadata": {},
   "source": [
    "2) Crear dos variables y un condicional que informe si son del mismo tipo de dato"
   ]
  },
  {
   "cell_type": "code",
   "execution_count": 2,
   "metadata": {},
   "outputs": [
    {
     "name": "stdout",
     "output_type": "stream",
     "text": [
      "Los tipos de datos no son iguales\n"
     ]
    }
   ],
   "source": [
    "a = 3\n",
    "b = False\n",
    "if type(a) == type(b):\n",
    "    print(\"Los tipos de datos son iguales\")\n",
    "else:\n",
    "    print(\"Los tipos de datos no son iguales\")"
   ]
  },
  {
   "attachments": {},
   "cell_type": "markdown",
   "metadata": {},
   "source": [
    "3) Para los valores enteros del 1 al 20, imprimir por pantalla si es par o impar"
   ]
  },
  {
   "cell_type": "code",
   "execution_count": 6,
   "metadata": {},
   "outputs": [
    {
     "name": "stdout",
     "output_type": "stream",
     "text": [
      "1 es impar\n",
      "2 es par\n",
      "3 es impar\n",
      "4 es par\n",
      "5 es impar\n",
      "6 es par\n",
      "7 es impar\n",
      "8 es par\n",
      "9 es impar\n",
      "10 es par\n",
      "11 es impar\n",
      "12 es par\n",
      "13 es impar\n",
      "14 es par\n",
      "15 es impar\n",
      "16 es par\n",
      "17 es impar\n",
      "18 es par\n",
      "19 es impar\n",
      "20 es par\n"
     ]
    }
   ],
   "source": [
    "for i in range(1,21):\n",
    "    if i % 2 == 0:\n",
    "        print(i , \"es par\")\n",
    "    else:\n",
    "        print(i , \"es impar\")"
   ]
  },
  {
   "attachments": {},
   "cell_type": "markdown",
   "metadata": {},
   "source": [
    "4) En un ciclo for mostrar para los valores entre 0 y 5 el resultado de elevarlo a la potencia igual a 3"
   ]
  },
  {
   "cell_type": "code",
   "execution_count": 3,
   "metadata": {},
   "outputs": [
    {
     "name": "stdout",
     "output_type": "stream",
     "text": [
      "0\n",
      "1\n",
      "8\n",
      "27\n",
      "64\n",
      "125\n"
     ]
    }
   ],
   "source": [
    "for i in range(0,6):\n",
    "    i=i**3\n",
    "    print(i)"
   ]
  },
  {
   "attachments": {},
   "cell_type": "markdown",
   "metadata": {},
   "source": [
    "5) Crear una variable que contenga un número entero y realizar un ciclo for la misma cantidad de ciclos"
   ]
  },
  {
   "cell_type": "code",
   "execution_count": 4,
   "metadata": {},
   "outputs": [
    {
     "name": "stdout",
     "output_type": "stream",
     "text": [
      "0\n",
      "1\n",
      "2\n",
      "3\n",
      "4\n",
      "5\n",
      "6\n",
      "7\n"
     ]
    }
   ],
   "source": [
    "a = 8\n",
    "for i in range(0,a):\n",
    "    print(i)"
   ]
  },
  {
   "attachments": {},
   "cell_type": "markdown",
   "metadata": {},
   "source": [
    "6) Utilizar un ciclo while para realizar el factorial de un número guardado en una variable, sólo si la variable contiene un número entero mayor a 0"
   ]
  },
  {
   "cell_type": "code",
   "execution_count": 5,
   "metadata": {},
   "outputs": [
    {
     "name": "stdout",
     "output_type": "stream",
     "text": [
      "El factorial es 12\n",
      "El factorial es 24\n",
      "La variable no es mayor a cero\n"
     ]
    }
   ],
   "source": [
    "n = 4\n",
    "if (n > 0):\n",
    "    factorial = n\n",
    "    while (n > 2):\n",
    "        n = n - 1\n",
    "        factorial = factorial * n\n",
    "        print('El factorial es', factorial)\n",
    "    else:\n",
    "        print('La variable no es mayor a cero')\n",
    "else:\n",
    "    print('La variable no es un entero')"
   ]
  },
  {
   "attachments": {},
   "cell_type": "markdown",
   "metadata": {},
   "source": [
    "7) Crear un ciclo for dentro de un ciclo while"
   ]
  },
  {
   "cell_type": "code",
   "execution_count": 35,
   "metadata": {},
   "outputs": [
    {
     "name": "stdout",
     "output_type": "stream",
     "text": [
      "Ciclo while nro  1\n",
      "Ciclo for nro  1\n",
      "Ciclo while nro  2\n",
      "Ciclo for nro  1\n",
      "Ciclo for nro  2\n",
      "Ciclo while nro  3\n",
      "Ciclo for nro  1\n",
      "Ciclo for nro  2\n",
      "Ciclo for nro  3\n",
      "Ciclo while nro  4\n",
      "Ciclo for nro  1\n",
      "Ciclo for nro  2\n",
      "Ciclo for nro  3\n",
      "Ciclo for nro  4\n"
     ]
    }
   ],
   "source": [
    "num = 1\n",
    "while num < 5:\n",
    "    print('Ciclo while nro ', num)  # Imprime el número del ciclo while\n",
    "    for i in range(1, num+1): \n",
    "        print('Ciclo for nro ', i)  # Imprime el número del ciclo for\n",
    "    num += 1"
   ]
  },
  {
   "attachments": {},
   "cell_type": "markdown",
   "metadata": {},
   "source": [
    "8) Crear un ciclo while dentro de un ciclo for"
   ]
  },
  {
   "cell_type": "code",
   "execution_count": 50,
   "metadata": {},
   "outputs": [
    {
     "name": "stdout",
     "output_type": "stream",
     "text": [
      "Soy el valor while 4\n",
      "Soy el valor for 1\n",
      "Soy el valor while 4\n",
      "Soy el valor for 2\n",
      "Soy el valor while 4\n",
      "Soy el valor for 3\n",
      "Soy el valor while 4\n",
      "Soy el valor for 4\n"
     ]
    }
   ],
   "source": [
    "num = 4\n",
    "for i in range(1,n):\n",
    "    while num < 4:\n",
    "        num -= 1\n",
    "    print(\"Soy el valor while\" , num)\n",
    "    print(\"Soy el valor for\" , i)"
   ]
  },
  {
   "attachments": {},
   "cell_type": "markdown",
   "metadata": {},
   "source": [
    "9) Imprimir los números primos existentes entre 0 y 30"
   ]
  },
  {
   "cell_type": "code",
   "execution_count": 53,
   "metadata": {},
   "outputs": [
    {
     "name": "stdout",
     "output_type": "stream",
     "text": [
      "0\n",
      "1\n",
      "2\n",
      "3\n",
      "5\n",
      "7\n",
      "11\n",
      "13\n",
      "17\n",
      "19\n",
      "23\n",
      "29\n"
     ]
    }
   ],
   "source": [
    "fin=30\n",
    "inicio = 0\n",
    "primo = True\n",
    "while (inicio < fin):\n",
    "    for div in range(2, inicio):\n",
    "        if (inicio % div == 0):\n",
    "            primo = False\n",
    "    if (primo):\n",
    "        print(inicio)\n",
    "    else:\n",
    "        primo = True\n",
    "    inicio += 1"
   ]
  },
  {
   "attachments": {},
   "cell_type": "markdown",
   "metadata": {},
   "source": [
    "10) ¿Se puede mejorar el proceso del punto 9? Utilizar las sentencias break y/ó continue para tal fin"
   ]
  },
  {
   "cell_type": "code",
   "execution_count": 6,
   "metadata": {},
   "outputs": [
    {
     "name": "stdout",
     "output_type": "stream",
     "text": [
      "0\n",
      "1\n",
      "2\n",
      "3\n",
      "5\n",
      "7\n",
      "11\n",
      "13\n",
      "17\n",
      "19\n",
      "23\n",
      "29\n"
     ]
    }
   ],
   "source": [
    "inicio = 0\n",
    "primo=True\n",
    "while (inicio < 30):\n",
    "    for div in range(2, inicio):\n",
    "        if (inicio % div == 0):\n",
    "            primo=False\n",
    "            break\n",
    "    if (primo):\n",
    "        print(inicio)\n",
    "    else:\n",
    "        primo=True\n",
    "    inicio+=1"
   ]
  },
  {
   "attachments": {},
   "cell_type": "markdown",
   "metadata": {},
   "source": [
    "11) En los puntos 9 y 10, se diseño un código que encuentra números primos y además se lo optimizó. ¿Es posible saber en qué medida se optimizó?"
   ]
  },
  {
   "cell_type": "code",
   "execution_count": 8,
   "metadata": {},
   "outputs": [
    {
     "name": "stdout",
     "output_type": "stream",
     "text": [
      "0\n",
      "1\n",
      "2\n",
      "3\n",
      "5\n",
      "7\n",
      "11\n",
      "13\n",
      "17\n",
      "19\n",
      "23\n",
      "29\n",
      "cantidad de iteraciones sin break: 378\n"
     ]
    }
   ],
   "source": [
    "contador = 0\n",
    "fin=30\n",
    "inicio = 0\n",
    "primo = True\n",
    "while (inicio < fin):\n",
    "    for div in range(2, inicio):\n",
    "        contador += 1\n",
    "        if (inicio % div == 0):\n",
    "            primo = False\n",
    "    if (primo):\n",
    "        print(inicio)\n",
    "    else:\n",
    "        primo = True\n",
    "    inicio += 1\n",
    "print(f'cantidad de iteraciones sin break: {contador}')"
   ]
  },
  {
   "cell_type": "code",
   "execution_count": 11,
   "metadata": {},
   "outputs": [
    {
     "name": "stdout",
     "output_type": "stream",
     "text": [
      "0\n",
      "1\n",
      "2\n",
      "3\n",
      "5\n",
      "7\n",
      "11\n",
      "13\n",
      "17\n",
      "19\n",
      "23\n",
      "29\n",
      "cantidad de iteraciones con break: 134\n"
     ]
    }
   ],
   "source": [
    "contador = 0\n",
    "inicio = 0\n",
    "primo = True\n",
    "while (inicio < 30):\n",
    "    for div in range(2, inicio):\n",
    "        contador += 1\n",
    "        if (inicio % div == 0):\n",
    "            primo = False\n",
    "            break\n",
    "    if (primo):\n",
    "        print(inicio)\n",
    "    else:\n",
    "        primo = True\n",
    "    inicio += 1\n",
    "print(f'cantidad de iteraciones con break: {contador}')"
   ]
  },
  {
   "attachments": {},
   "cell_type": "markdown",
   "metadata": {},
   "source": [
    "12) Si la cantidad de números que se evalúa es mayor a treinta, esa optimización crece?"
   ]
  },
  {
   "cell_type": "code",
   "execution_count": 12,
   "metadata": {},
   "outputs": [
    {
     "name": "stdout",
     "output_type": "stream",
     "text": [
      "0\n",
      "1\n",
      "2\n",
      "3\n",
      "5\n",
      "7\n",
      "11\n",
      "13\n",
      "17\n",
      "19\n",
      "23\n",
      "29\n",
      "31\n",
      "37\n",
      "41\n",
      "43\n",
      "47\n",
      "cantidad de iteraciones sin break: 1128\n"
     ]
    }
   ],
   "source": [
    "contador = 0\n",
    "fin= 50\n",
    "inicio = 0\n",
    "primo = True\n",
    "while (inicio < fin):\n",
    "    for div in range(2, inicio):\n",
    "        contador += 1\n",
    "        if (inicio % div == 0):\n",
    "            primo = False\n",
    "    if (primo):\n",
    "        print(inicio)\n",
    "    else:\n",
    "        primo = True\n",
    "    inicio += 1\n",
    "print(f'cantidad de iteraciones sin break: {contador}')"
   ]
  },
  {
   "cell_type": "code",
   "execution_count": 13,
   "metadata": {},
   "outputs": [
    {
     "name": "stdout",
     "output_type": "stream",
     "text": [
      "0\n",
      "1\n",
      "2\n",
      "3\n",
      "5\n",
      "7\n",
      "11\n",
      "13\n",
      "17\n",
      "19\n",
      "23\n",
      "29\n",
      "31\n",
      "37\n",
      "41\n",
      "43\n",
      "47\n",
      "cantidad de iteraciones con break: 349\n"
     ]
    }
   ],
   "source": [
    "contador = 0\n",
    "inicio = 0\n",
    "primo = True\n",
    "while (inicio < 50):\n",
    "    for div in range(2, inicio):\n",
    "        contador += 1\n",
    "        if (inicio % div == 0):\n",
    "            primo = False\n",
    "            break\n",
    "    if (primo):\n",
    "        print(inicio)\n",
    "    else:\n",
    "        primo = True\n",
    "    inicio += 1\n",
    "print(f'cantidad de iteraciones con break: {contador}')"
   ]
  },
  {
   "attachments": {},
   "cell_type": "markdown",
   "metadata": {},
   "source": [
    "13) Aplicando continue, armar un ciclo while que solo imprima los valores divisibles por 12, dentro del rango de números de 100 a 300"
   ]
  },
  {
   "cell_type": "code",
   "execution_count": 22,
   "metadata": {},
   "outputs": [
    {
     "name": "stdout",
     "output_type": "stream",
     "text": [
      "108  SI es divisible!\n"
     ]
    }
   ],
   "source": [
    "inicio = 100\n",
    "while(inicio <= 300):\n",
    "    inicio += 1\n",
    "    if (inicio % 12 != 0):\n",
    "        continue\n",
    "    print(inicio, ' SI es divisible!')  \n"
   ]
  },
  {
   "attachments": {},
   "cell_type": "markdown",
   "metadata": {},
   "source": [
    "14) Utilizar la función **input()** que permite hacer ingresos por teclado, para encontrar números primos y dar la opción al usario de buscar el siguiente"
   ]
  },
  {
   "cell_type": "code",
   "execution_count": 27,
   "metadata": {},
   "outputs": [
    {
     "name": "stdout",
     "output_type": "stream",
     "text": [
      "1\n",
      "¿Presione 1 si desea encontrar el próximo número primo?\n",
      "2\n",
      "¿Presione 1 si desea encontrar el próximo número primo?\n",
      "3\n",
      "¿Presione 1 si desea encontrar el próximo número primo?\n",
      "5\n",
      "¿Presione 1 si desea encontrar el próximo número primo?\n",
      "7\n",
      "¿Presione 1 si desea encontrar el próximo número primo?\n",
      "11\n",
      "¿Presione 1 si desea encontrar el próximo número primo?\n",
      "13\n",
      "¿Presione 1 si desea encontrar el próximo número primo?\n",
      "17\n",
      "¿Presione 1 si desea encontrar el próximo número primo?\n",
      "19\n",
      "¿Presione 1 si desea encontrar el próximo número primo?\n",
      "Se finaliza el proceso\n"
     ]
    }
   ],
   "source": [
    "n = 1\n",
    "sigue = 1\n",
    "primo = True\n",
    "while (sigue == 1):\n",
    "    for div in range(2, n):\n",
    "        if (n % div == 0):\n",
    "            primo = False\n",
    "            break\n",
    "    if (primo):\n",
    "        print(n)\n",
    "        print('¿Presione 1 si desea encontrar el próximo número primo?')\n",
    "        if (input() != '1'):\n",
    "            print('Se finaliza el proceso')\n",
    "            break\n",
    "    else:\n",
    "        primo = True\n",
    "    n += 1"
   ]
  },
  {
   "attachments": {},
   "cell_type": "markdown",
   "metadata": {},
   "source": [
    "15) Crear un ciclo while que encuentre dentro del rango de 100 a 300 el primer número divisible por 3 y además múltiplo de 6"
   ]
  },
  {
   "cell_type": "code",
   "execution_count": 26,
   "metadata": {},
   "outputs": [
    {
     "name": "stdout",
     "output_type": "stream",
     "text": [
      "El número es:  102\n"
     ]
    }
   ],
   "source": [
    "inicio = 100\n",
    "while(inicio<=300):\n",
    "    if (inicio % 6 == 0):\n",
    "        print('El número es: ', str(inicio))\n",
    "        break\n",
    "    inicio += 1"
   ]
  }
 ],
 "metadata": {
  "interpreter": {
   "hash": "c85384e4cb51c8b72350f3a8712cc8351fdc3955e32a27f9b60c6242ab125f01"
  },
  "kernelspec": {
   "display_name": "Python 3 (ipykernel)",
   "language": "python",
   "name": "python3"
  },
  "language_info": {
   "codemirror_mode": {
    "name": "ipython",
    "version": 3
   },
   "file_extension": ".py",
   "mimetype": "text/x-python",
   "name": "python",
   "nbconvert_exporter": "python",
   "pygments_lexer": "ipython3",
   "version": "3.10.11"
  }
 },
 "nbformat": 4,
 "nbformat_minor": 4
}
