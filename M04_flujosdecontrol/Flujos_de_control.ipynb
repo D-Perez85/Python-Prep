{
 "cells": [
  {
   "cell_type": "code",
   "execution_count": 1,
   "metadata": {},
   "outputs": [
    {
     "name": "stdout",
     "output_type": "stream",
     "text": [
      "a es mayor que b\n"
     ]
    }
   ],
   "source": [
    "a = 5\n",
    "b = 7\n",
    "if a<b: \n",
    "    print(\"a es mayor que b\") #esto debe ser identado\n",
    "elif a>b: \n",
    "    print(\"a es mayor que b\") #esto debe ser identado\n",
    "else:\n",
    "    print(\"a y b son iguales\") #esto debe ser identado"
   ]
  },
  {
   "cell_type": "code",
   "execution_count": 2,
   "metadata": {},
   "outputs": [
    {
     "name": "stdout",
     "output_type": "stream",
     "text": [
      "x es positivo\n"
     ]
    }
   ],
   "source": [
    "x=10\n",
    "if x>0:\n",
    "    print(\"x es positivo\")"
   ]
  },
  {
   "cell_type": "markdown",
   "metadata": {},
   "source": [
    "BUCLE FOR: UTILIZO EL BUCLE FOR CUANDO CONOZCO LA CANTIDAD DE ITERACIONES QUE DEBEN DE REALIZARSE"
   ]
  },
  {
   "cell_type": "code",
   "execution_count": 4,
   "metadata": {},
   "outputs": [
    {
     "name": "stdout",
     "output_type": "stream",
     "text": [
      "6\n"
     ]
    }
   ],
   "source": [
    "numeros=[1,2,3,4,5]\n",
    "for num in numeros: \n",
    "    suma=num+1\n",
    "print(suma)"
   ]
  },
  {
   "cell_type": "code",
   "execution_count": 14,
   "metadata": {},
   "outputs": [
    {
     "name": "stdout",
     "output_type": "stream",
     "text": [
      "2\n",
      "3\n",
      "4\n",
      "5\n",
      "6\n"
     ]
    }
   ],
   "source": [
    "for i in range(1,6):\n",
    "    suma=i+1\n",
    "    print(suma)"
   ]
  },
  {
   "cell_type": "code",
   "execution_count": 20,
   "metadata": {},
   "outputs": [
    {
     "name": "stdout",
     "output_type": "stream",
     "text": [
      "Variable de iteracion 1 Resultado =  2\n",
      "Variable de iteracion 2 Resultado =  3\n",
      "Variable de iteracion 3 Resultado =  4\n",
      "Variable de iteracion 4 Resultado =  5\n",
      "Variable de iteracion 5 Resultado =  6\n"
     ]
    }
   ],
   "source": [
    "for i in range(1,6):\n",
    "    suma=i+1\n",
    "    print(\"Variable de iteracion\", i, \"Resultado = \" , suma)"
   ]
  },
  {
   "cell_type": "markdown",
   "metadata": {},
   "source": [
    "BUCLE WHILE: UTILIZO EL BUCLE WHILE CUANDO NO CONOZCO LA CANTIDAD DE ITERACIONES QUE DEBEN DE REALIZARSE"
   ]
  },
  {
   "cell_type": "code",
   "execution_count": 24,
   "metadata": {},
   "outputs": [
    {
     "name": "stdout",
     "output_type": "stream",
     "text": [
      "num  1\n",
      "num  2\n",
      "num  3\n",
      "num  4\n",
      "num  5\n",
      "num  6\n"
     ]
    }
   ],
   "source": [
    "num = 1\n",
    "while num <= 6:\n",
    "    print(\"num \", num)\n",
    "    num =num +1"
   ]
  },
  {
   "cell_type": "markdown",
   "metadata": {},
   "source": [
    "SENTENCIA BREAK: detiene el bucle, no continua las iteraciones"
   ]
  },
  {
   "cell_type": "code",
   "execution_count": 27,
   "metadata": {},
   "outputs": [
    {
     "name": "stdout",
     "output_type": "stream",
     "text": [
      "0\n"
     ]
    }
   ],
   "source": [
    "for i in range(5):\n",
    "    print(i)\n",
    "    break"
   ]
  },
  {
   "cell_type": "code",
   "execution_count": 28,
   "metadata": {},
   "outputs": [
    {
     "name": "stdout",
     "output_type": "stream",
     "text": [
      "P\n",
      "y\n",
      "t\n",
      "se encontro la letra h\n"
     ]
    }
   ],
   "source": [
    "cadena = \"Python\"\n",
    "for letra in cadena:\n",
    "    if letra ==\"h\":\n",
    "        print(\"se encontro la letra h\")\n",
    "        break\n",
    "    print(letra)"
   ]
  },
  {
   "cell_type": "code",
   "execution_count": 34,
   "metadata": {},
   "outputs": [
    {
     "name": "stdout",
     "output_type": "stream",
     "text": [
      "4\n",
      "3\n",
      "2\n",
      "1\n",
      "0\n",
      "Fin del bucle\n"
     ]
    }
   ],
   "source": [
    "x=5\n",
    "while True:\n",
    "    x-= 1\n",
    "    print(x)\n",
    "    if x == 0:\n",
    "        break\n",
    "print(\"Fin del bucle\") #respetar esta identacion\n"
   ]
  },
  {
   "cell_type": "markdown",
   "metadata": {},
   "source": [
    "SENTENCIA CONTINUE: sigue las iteraciones restantes, no rompe el bucle"
   ]
  },
  {
   "cell_type": "code",
   "execution_count": 37,
   "metadata": {},
   "outputs": [
    {
     "name": "stdout",
     "output_type": "stream",
     "text": [
      "y\n",
      "t\n",
      "h\n",
      "o\n",
      "n\n"
     ]
    }
   ],
   "source": [
    "cadena = \"Python\"\n",
    "for letra in cadena:\n",
    "    if letra ==\"P\":\n",
    "        continue\n",
    "    print(letra)"
   ]
  }
 ],
 "metadata": {
  "kernelspec": {
   "display_name": "Python 3",
   "language": "python",
   "name": "python3"
  },
  "language_info": {
   "codemirror_mode": {
    "name": "ipython",
    "version": 3
   },
   "file_extension": ".py",
   "mimetype": "text/x-python",
   "name": "python",
   "nbconvert_exporter": "python",
   "pygments_lexer": "ipython3",
   "version": "3.10.11"
  },
  "orig_nbformat": 4
 },
 "nbformat": 4,
 "nbformat_minor": 2
}
