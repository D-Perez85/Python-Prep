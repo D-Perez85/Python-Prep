{
 "cells": [
  {
   "cell_type": "markdown",
   "metadata": {},
   "source": [
    "ITERAR ES REPETIR UNA ACCION EN UN BUCLE HASTA QUE SE CUMPLA UNA CONDICION\n",
    "UNA CLASE ITERABLE ES AQUELLA QUE SE PUEDE RECORRERE CON UN CICLO FOR: \n",
    "    -   listas\n",
    "    -   tuplas\n",
    "    -   cadenas de texto\n",
    "    -   diccionarios"
   ]
  },
  {
   "cell_type": "markdown",
   "metadata": {},
   "source": [
    "ITERAR UNA LISTA CON CICLO WHILE"
   ]
  },
  {
   "cell_type": "code",
   "execution_count": 1,
   "metadata": {},
   "outputs": [
    {
     "name": "stdout",
     "output_type": "stream",
     "text": [
      "5\n",
      "4\n",
      "9\n",
      "2\n"
     ]
    }
   ],
   "source": [
    "lista = [5,4,9,2]\n",
    "i=0\n",
    "while i<len(lista):\n",
    "    elemento=lista[i]\n",
    "    print(elemento)\n",
    "    i+=1"
   ]
  },
  {
   "cell_type": "markdown",
   "metadata": {},
   "source": [
    "ITERAR UNA LISTA CON CICLO FOR"
   ]
  },
  {
   "cell_type": "code",
   "execution_count": 2,
   "metadata": {},
   "outputs": [
    {
     "name": "stdout",
     "output_type": "stream",
     "text": [
      "5\n",
      "4\n",
      "9\n",
      "2\n"
     ]
    }
   ],
   "source": [
    "# for se utiliza para iterar sobre una lista de valores\n",
    "lista=[5,4,9,2]\n",
    "for elemento in lista: \n",
    "    print(elemento)"
   ]
  },
  {
   "cell_type": "markdown",
   "metadata": {},
   "source": [
    "ITERAR UNA CADENA"
   ]
  },
  {
   "cell_type": "code",
   "execution_count": 3,
   "metadata": {},
   "outputs": [
    {
     "name": "stdout",
     "output_type": "stream",
     "text": [
      "D\n",
      "a\n",
      "m\n",
      "i\n",
      "a\n",
      "n\n"
     ]
    }
   ],
   "source": [
    "cadena = \"Damian\"\n",
    "for c in cadena: \n",
    "    print(c)"
   ]
  },
  {
   "cell_type": "markdown",
   "metadata": {},
   "source": [
    "FN ENUMERATE"
   ]
  },
  {
   "cell_type": "code",
   "execution_count": 4,
   "metadata": {},
   "outputs": [
    {
     "name": "stdout",
     "output_type": "stream",
     "text": [
      "(0, 'D')\n",
      "(1, 'a')\n",
      "(2, 'm')\n",
      "(3, 'i')\n",
      "(4, 'a')\n",
      "(5, 'n')\n"
     ]
    }
   ],
   "source": [
    "#esto permite agregar el indice a c/u de los valores de la cadena\n",
    "#genera una tupla que contiene el indice y su valor correspondiente\n",
    "cadena = \"Damian\"\n",
    "for c in enumerate(cadena):\n",
    "    print(c)"
   ]
  },
  {
   "cell_type": "markdown",
   "metadata": {},
   "source": [
    "AVERIGUAR SI CADENA / OBJETO ES ITERABLE - METODO ISINSTANCE"
   ]
  },
  {
   "cell_type": "code",
   "execution_count": 5,
   "metadata": {},
   "outputs": [],
   "source": [
    "from collections.abc import Iterable\n",
    "cadena = \"Damian\"\n",
    "numero = 9"
   ]
  },
  {
   "cell_type": "code",
   "execution_count": 6,
   "metadata": {},
   "outputs": [
    {
     "data": {
      "text/plain": [
       "True"
      ]
     },
     "execution_count": 6,
     "metadata": {},
     "output_type": "execute_result"
    }
   ],
   "source": [
    "isinstance(cadena, Iterable)"
   ]
  },
  {
   "cell_type": "code",
   "execution_count": 7,
   "metadata": {},
   "outputs": [
    {
     "data": {
      "text/plain": [
       "False"
      ]
     },
     "execution_count": 7,
     "metadata": {},
     "output_type": "execute_result"
    }
   ],
   "source": [
    "isinstance(numero, Iterable)"
   ]
  },
  {
   "cell_type": "markdown",
   "metadata": {},
   "source": [
    "METODO LIST() CONVIERTE A LISTA UNA CLASE ITERABLE"
   ]
  },
  {
   "cell_type": "code",
   "execution_count": 8,
   "metadata": {},
   "outputs": [
    {
     "name": "stdout",
     "output_type": "stream",
     "text": [
      "['D', 'a', 'm', 'i', 'a', 'n']\n"
     ]
    }
   ],
   "source": [
    "print(list(\"Damian\"))"
   ]
  },
  {
   "cell_type": "markdown",
   "metadata": {},
   "source": [
    "METODO SUM() ES UNA FN QUE TOMA UN ITERABLE Y RETONAR LA SUMA DE SUS ELEMENTOS"
   ]
  },
  {
   "cell_type": "code",
   "execution_count": 9,
   "metadata": {},
   "outputs": [
    {
     "name": "stdout",
     "output_type": "stream",
     "text": [
      "10\n"
     ]
    }
   ],
   "source": [
    "print(sum([1,2,3,4]))"
   ]
  },
  {
   "cell_type": "markdown",
   "metadata": {},
   "source": [
    "METODO JOIN() PERMITE UNIR CADA ELEMENTO DE UNA CLASE ITERABLE CON UNA CADENA DE TEXTO \n",
    "SE CONCATENA CON UN SEPARADOR ESPECIFICADO POR NOSOTROS"
   ]
  },
  {
   "cell_type": "code",
   "execution_count": 10,
   "metadata": {},
   "outputs": [
    {
     "name": "stdout",
     "output_type": "stream",
     "text": [
      "D-a-m-i-a-n\n"
     ]
    }
   ],
   "source": [
    "print(\"-\".join(\"Damian\"))"
   ]
  },
  {
   "cell_type": "markdown",
   "metadata": {},
   "source": [
    "PODEMOS ITERAR UN DICCIONARIO - EL ITERADOR DEVUELVE LAS CLAVES O KEYS DEL MISMO"
   ]
  },
  {
   "cell_type": "code",
   "execution_count": 11,
   "metadata": {},
   "outputs": [
    {
     "name": "stdout",
     "output_type": "stream",
     "text": [
      "a\n",
      "b\n",
      "c\n"
     ]
    }
   ],
   "source": [
    "mi_dict = {'a': 1, 'b': 2, 'c': 3}\n",
    "for i in mi_dict:\n",
    "    print(i)"
   ]
  }
 ],
 "metadata": {
  "kernelspec": {
   "display_name": "Python 3",
   "language": "python",
   "name": "python3"
  },
  "language_info": {
   "codemirror_mode": {
    "name": "ipython",
    "version": 3
   },
   "file_extension": ".py",
   "mimetype": "text/x-python",
   "name": "python",
   "nbconvert_exporter": "python",
   "pygments_lexer": "ipython3",
   "version": "3.10.11"
  },
  "orig_nbformat": 4
 },
 "nbformat": 4,
 "nbformat_minor": 2
}
